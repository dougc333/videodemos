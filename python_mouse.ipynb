{
 "cells": [
  {
   "cell_type": "code",
   "execution_count": null,
   "metadata": {
    "collapsed": false
   },
   "outputs": [],
   "source": [
    "#this is too slow running in jupyter. Selection is very slow\n",
    "\n",
    "import cv2\n",
    "refpt=[]\n",
    "cropping=False\n",
    "\n",
    "def click_and_crop(event, x, y, flags, param):\n",
    "    # grab references to the global variables\n",
    "    global refPt, cropping\n",
    " \n",
    "    # if the left mouse button was clicked, record the starting\n",
    "    # (x, y) coordinates and indicate that cropping is being\n",
    "    # performed\n",
    "    if event == cv2.EVENT_LBUTTONDOWN:\n",
    "        refPt = [(x, y)]\n",
    "        cropping = True\n",
    " \n",
    "    # check to see if the left mouse button was released\n",
    "    elif event == cv2.EVENT_LBUTTONUP:\n",
    "        # record the ending (x, y) coordinates and indicate that\n",
    "        # the cropping operation is finished\n",
    "        refPt.append((x, y))\n",
    "        cropping = False\n",
    " \n",
    "        # draw a rectangle around the region of interest\n",
    "        cv2.rectangle(image, refPt[0], refPt[1], (0, 255, 0), 2)\n",
    "        cv2.imshow(\"image\", image)\n",
    "\n",
    "# construct the argument parser and parse the arguments\n",
    "#ap = argparse.ArgumentParser()\n",
    "#ap.add_argument(\"-i\", \"--image\", required=True, help=\"Path to the image\")\n",
    "#args = vars(ap.parse_args())\n",
    " \n",
    "# load the image, clone it, and setup the mouse callback function\n",
    "image = cv2.imread('imagefile.jpg')\n",
    "clone = image.copy()\n",
    "cv2.namedWindow(\"image\")\n",
    "cv2.setMouseCallback(\"image\", click_and_crop)\n",
    " \n",
    "# keep looping until the 'q' key is pressed\n",
    "while True:\n",
    "\t# display the image and wait for a keypress\n",
    "\tcv2.imshow(\"image\", image)\n",
    "\tkey = cv2.waitKey(1) & 0xFF\n",
    " \n",
    "\t# if the 'r' key is pressed, reset the cropping region\n",
    "\tif key == ord(\"r\"):\n",
    "\t\timage = clone.copy()\n",
    " \n",
    "\t# if the 'c' key is pressed, break from the loop\n",
    "\telif key == ord(\"c\"):\n",
    "\t\tbreak\n",
    "# if there are two reference points, then crop the region of interest\n",
    "# from teh image and display it\n",
    "if len(refPt) == 2:\n",
    "\troi = clone[refPt[0][1]:refPt[1][1], refPt[0][0]:refPt[1][0]]\n",
    "\tcv2.imshow(\"ROI\", roi)\n",
    "\tcv2.waitKey(0)\n",
    " \n",
    "# close all open windows\n",
    "cv2.destroyAllWindows()"
   ]
  },
  {
   "cell_type": "code",
   "execution_count": null,
   "metadata": {
    "collapsed": true
   },
   "outputs": [],
   "source": [
    ""
   ]
  }
 ],
 "metadata": {
  "kernelspec": {
   "display_name": "Python 2",
   "language": "python",
   "name": "python2"
  },
  "language_info": {
   "codemirror_mode": {
    "name": "ipython",
    "version": 2.0
   },
   "file_extension": ".py",
   "mimetype": "text/x-python",
   "name": "python",
   "nbconvert_exporter": "python",
   "pygments_lexer": "ipython2",
   "version": "2.7.11"
  }
 },
 "nbformat": 4,
 "nbformat_minor": 0
}