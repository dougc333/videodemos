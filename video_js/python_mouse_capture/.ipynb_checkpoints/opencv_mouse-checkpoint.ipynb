{
 "cells": [
  {
   "cell_type": "code",
   "execution_count": 13,
   "metadata": {
    "collapsed": false
   },
   "outputs": [
    {
     "name": "stderr",
     "output_type": "stream",
     "text": [
      "<ipython-input-13-43d20fa89a3e>:18: SyntaxWarning: name 'rectPts' is used prior to global declaration\n",
      "  global rectPts, secondFrame\n"
     ]
    },
    {
     "name": "stdout",
     "output_type": "stream",
     "text": [
      "click []\n",
      "click []\n",
      "LEFT: 155 75\n",
      "click [(155, 75)]\n",
      "click [(155, 75)]\n",
      "click [(155, 75)]\n",
      "click [(155, 75)]\n",
      "LEFT: 155 75\n"
     ]
    },
    {
     "data": {
      "text/plain": [
       "-1"
      ]
     },
     "execution_count": 13,
     "metadata": {},
     "output_type": "execute_result"
    }
   ],
   "source": [
    "#mouse select video area. mouse click causes video to stop then copy frame to new window and select on the new\n",
    "#window\n",
    "\n",
    "import cv2\n",
    "import numpy\n",
    "\n",
    "rectPts = []\n",
    "secondRectPts = []\n",
    "\n",
    "\n",
    "vc = cv2.VideoCapture('/Users/dc/videodemos/video_mouse.mov')\n",
    "\n",
    "ret_code,frame = vc.read()\n",
    "secondFrame = frame\n",
    "\n",
    "def click(event,x,y,flags,param):\n",
    "    print \"click\", rectPts\n",
    "    global rectPts, secondFrame\n",
    "    if event==cv2.EVENT_LBUTTONDOWN:\n",
    "        rectPts=[(x, y)]\n",
    "        print \"LEFT:\",x,y\n",
    "        cv2.imshow('second', secondFrame)\n",
    "        if len(secondRectPts)==1:\n",
    "            cv2.circle(secondFrame,(secondRectPts[0][0],secondRectPts[0][1]),1,(0,255,0))\n",
    "        if len(secondRectPts)==2:\n",
    "            print 'secondRectPts len is 2'\n",
    "            cv2.rect(\"second\", (secondRectPts[0][0],secondRectPts[0][1]), (secondRectPts[1][0],secondRectPts[1][1]),(0,255,0))\n",
    "        #key = cv2.waitKey(10000)& 0xFF\n",
    "        #if key == ord('q'):\n",
    "        #    return\n",
    "    elif event==cv2.EVENT_RBUTTONDOWN:\n",
    "        rectPts.append((x,y))\n",
    "        print \"RIGHT:\", x,y\n",
    "        \n",
    "def drawRectClick(event,x,y,flags,param):\n",
    "    print 'drawRectClick'\n",
    "    if event==cv2.EVENT_LBUTTONDOWN:\n",
    "        secondRectPts = [(x,y)]\n",
    "    if event==cv2.EVENT_RBUTTONDOWN:\n",
    "        secondRectPts.append((x,y))\n",
    "        \n",
    "    \n",
    "cv2.namedWindow(\"main\")\n",
    "cv2.setMouseCallback(\"main\",click)\n",
    "\n",
    "cv2.namedWindow(\"second\")\n",
    "cv2.setMouseCallback(\"second\", drawRectClick)\n",
    "\n",
    "\n",
    "while ret_code==True:\n",
    "    #process first frame    \n",
    "    if len(rectPts)==1:\n",
    "        cv2.circle(frame,(rectPts[0][0], rectPts[0][1]) , 1, (0,255,0))\n",
    "    cv2.imshow(\"main\",frame)\n",
    "    key = cv2.waitKey(1) & 0xFF\n",
    "    if key == ord('q'):\n",
    "        break\n",
    "    ret_code, frame = vc.read()\n",
    "    secondFrame=frame\n",
    "\n",
    "cv2.destroyAllWindows()\n",
    "cv2.waitKey(1)\n",
    "cv2.waitKey(1)\n",
    "cv2.waitKey(1)\n",
    "\n",
    "\n",
    "\n"
   ]
  },
  {
   "cell_type": "code",
   "execution_count": null,
   "metadata": {
    "collapsed": true
   },
   "outputs": [],
   "source": []
  },
  {
   "cell_type": "code",
   "execution_count": null,
   "metadata": {
    "collapsed": true
   },
   "outputs": [],
   "source": []
  }
 ],
 "metadata": {
  "kernelspec": {
   "display_name": "Python 2",
   "language": "python",
   "name": "python2"
  },
  "language_info": {
   "codemirror_mode": {
    "name": "ipython",
    "version": 2
   },
   "file_extension": ".py",
   "mimetype": "text/x-python",
   "name": "python",
   "nbconvert_exporter": "python",
   "pygments_lexer": "ipython2",
   "version": "2.7.11"
  }
 },
 "nbformat": 4,
 "nbformat_minor": 1
}
