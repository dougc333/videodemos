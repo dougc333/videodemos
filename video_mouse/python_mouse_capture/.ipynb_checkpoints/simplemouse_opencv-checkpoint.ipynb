{
 "cells": [
  {
   "cell_type": "code",
   "execution_count": 7,
   "metadata": {
    "collapsed": false
   },
   "outputs": [
    {
     "name": "stdout",
     "output_type": "stream",
     "text": [
      "[[[ 23  38  33]\n",
      "  [ 24  39  35]\n",
      "  [ 28  43  38]\n",
      "  ..., \n",
      "  [125 133 132]\n",
      "  [141 148 147]\n",
      "  [148 155 154]]\n",
      "\n",
      " [[ 15  30  25]\n",
      "  [ 17  32  28]\n",
      "  [ 21  36  31]\n",
      "  ..., \n",
      "  [ 98 105 104]\n",
      "  [106 113 112]\n",
      "  [109 117 115]]\n",
      "\n",
      " [[ 11  27  22]\n",
      "  [ 12  28  23]\n",
      "  [ 18  34  29]\n",
      "  ..., \n",
      "  [ 63  70  69]\n",
      "  [ 66  73  72]\n",
      "  [ 69  76  75]]\n",
      "\n",
      " ..., \n",
      " [[132 133 137]\n",
      "  [132 133 137]\n",
      "  [132 133 137]\n",
      "  ..., \n",
      "  [ 76  74  75]\n",
      "  [ 85  85  85]\n",
      "  [ 91  91  91]]\n",
      "\n",
      " [[132 133 137]\n",
      "  [132 133 137]\n",
      "  [132 133 137]\n",
      "  ..., \n",
      "  [ 79  78  78]\n",
      "  [ 76  76  76]\n",
      "  [ 76  76  76]]\n",
      "\n",
      " [[132 133 137]\n",
      "  [132 133 137]\n",
      "  [132 133 137]\n",
      "  ..., \n",
      "  [ 79  78  78]\n",
      "  [ 76  76  76]\n",
      "  [ 76  76  76]]]\n"
     ]
    },
    {
     "ename": "NameError",
     "evalue": "name 'firstFrame' is not defined",
     "output_type": "error",
     "traceback": [
      "\u001b[0;31m-----------------------------------------------------------------------\u001b[0m",
      "\u001b[0;31mNameError\u001b[0m                             Traceback (most recent call last)",
      "\u001b[0;32m<ipython-input-7-1dea2ceaf882>\u001b[0m in \u001b[0;36m<module>\u001b[0;34m()\u001b[0m\n\u001b[1;32m     24\u001b[0m \u001b[0;32mprint\u001b[0m \u001b[0mfirst_frame\u001b[0m\u001b[0;34m\u001b[0m\u001b[0m\n\u001b[1;32m     25\u001b[0m \u001b[0;32mwhile\u001b[0m \u001b[0mTrue\u001b[0m\u001b[0;34m:\u001b[0m\u001b[0;34m\u001b[0m\u001b[0m\n\u001b[0;32m---> 26\u001b[0;31m     \u001b[0mcv2\u001b[0m\u001b[0;34m.\u001b[0m\u001b[0mimshow\u001b[0m\u001b[0;34m(\u001b[0m\u001b[0;34m'show_firstFrame'\u001b[0m\u001b[0;34m,\u001b[0m \u001b[0mfirstFrame\u001b[0m\u001b[0;34m)\u001b[0m\u001b[0;34m\u001b[0m\u001b[0m\n\u001b[0m\u001b[1;32m     27\u001b[0m     \u001b[0mwaitKey\u001b[0m \u001b[0;34m=\u001b[0m \u001b[0mcv2\u001b[0m\u001b[0;34m.\u001b[0m\u001b[0mwaitKey\u001b[0m\u001b[0;34m(\u001b[0m\u001b[0;36m10000\u001b[0m\u001b[0;34m)\u001b[0m \u001b[0;34m&\u001b[0m \u001b[0;36m0xFF\u001b[0m\u001b[0;34m\u001b[0m\u001b[0m\n\u001b[1;32m     28\u001b[0m     \u001b[0;32mif\u001b[0m \u001b[0mwaitKey\u001b[0m \u001b[0;34m==\u001b[0m \u001b[0mord\u001b[0m\u001b[0;34m(\u001b[0m\u001b[0;34m'q'\u001b[0m\u001b[0;34m)\u001b[0m\u001b[0;34m:\u001b[0m\u001b[0;34m\u001b[0m\u001b[0m\n",
      "\u001b[0;31mNameError\u001b[0m: name 'firstFrame' is not defined"
     ]
    }
   ],
   "source": [
    "# simple mouse capture demo on video creating image\n",
    "\n",
    "\n",
    "\n",
    "import cv2\n",
    "import numpy as np\n",
    "\n",
    "\n",
    "\n",
    "def mouse_capture(event, x, y, flags, param):\n",
    "    if event==event.LBUTTONDOWN:\n",
    "        print 'left mouse button'\n",
    "    elif event==event.RBUTTONDOWN:\n",
    "        print 'right mouse button'\n",
    "    \n",
    "\n",
    "vc = cv2.VideoCapture('/Users/dc/videodemos/video_mouse.mov')\n",
    "\n",
    "ret_code, first_frame = vc.read()\n",
    "\n",
    "cv2.namedWindow('show_firstFrame')\n",
    "cv2.setMouseCallback('show_firstFrame', mouse_capture)\n",
    "\n",
    "print first_frame\n",
    "while True:\n",
    "    cv2.imshow('show_firstFrame', first_frame)\n",
    "    waitKey = cv2.waitKey(10000) & 0xFF\n",
    "    if waitKey == ord('q'):\n",
    "        break\n",
    "\n",
    "print 'done'\n",
    "\n"
   ]
  },
  {
   "cell_type": "code",
   "execution_count": null,
   "metadata": {
    "collapsed": true
   },
   "outputs": [],
   "source": []
  }
 ],
 "metadata": {
  "kernelspec": {
   "display_name": "Python 2",
   "language": "python",
   "name": "python2"
  },
  "language_info": {
   "codemirror_mode": {
    "name": "ipython",
    "version": 2
   },
   "file_extension": ".py",
   "mimetype": "text/x-python",
   "name": "python",
   "nbconvert_exporter": "python",
   "pygments_lexer": "ipython2",
   "version": "2.7.11"
  }
 },
 "nbformat": 4,
 "nbformat_minor": 1
}
